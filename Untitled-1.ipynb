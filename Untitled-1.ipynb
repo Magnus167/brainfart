{
 "cells": [
  {
   "cell_type": "code",
   "execution_count": 1,
   "metadata": {},
   "outputs": [],
   "source": [
    "# %%\n",
    "class BrainFvck:\n",
    "    def __init__(self, size=1024, dataArr=None):\n",
    "        if dataArr:\n",
    "            self.data = dataArr\n",
    "        else:\n",
    "            self.data = [0] * size\n",
    "    \n",
    "    def _run_single(self, instr, dataPtr, instrPtr):\n",
    "        if instr == '>':\n",
    "            dataPtr += 1\n",
    "        if instr == '<':\n",
    "            dataPtr -= 1\n",
    "        if instr == '+':\n",
    "            self.data[dataPtr] += 1\n",
    "        if instr == '-':\n",
    "            self.data[dataPtr] -= 1\n",
    "        if instr == '.':\n",
    "            print(chr(self.data[dataPtr]), end='')\n",
    "        if instr == ',':\n",
    "            self.data[dataPtr] = ord(input())\n",
    "        if instr == '[':\n",
    "            pass\n",
    "        if instr == ']':\n",
    "            pass\n",
    "\n",
    "        return dataPtr, instrPtr + 1\n",
    "\n",
    "    def _run_loop(self, loop_program, data_ptr, program_ptr):\n",
    "        while self.data[data_ptr] != 0:\n",
    "            self.run(loop_program, data_ptr, program_ptr)\n",
    "            \n",
    "    def _get_loop(self, program, program_ptr):\n",
    "        i, j, k = 1, 0, 0\n",
    "        while i != j:\n",
    "            i += int(program[k] == '[')\n",
    "            j += int(program[k] == ']')\n",
    "            k += 1\n",
    "        return program[program_ptr + 1:program_ptr + k - 1]\n",
    "        \n",
    "\n",
    "    def run(self, program, data_ptr=0, program_ptr=0):\n",
    "        running = len(program) > 0\n",
    "        self.data_ptr = data_ptr\n",
    "        self.program_ptr = program_ptr\n",
    "        \n",
    "        while running:\n",
    "            instr = program[self.program_ptr]\n",
    "            if instr == '[':\n",
    "                loop_program = self._get_loop(program, self.program_ptr)\n",
    "                self._run_loop(loop_program, self.data_ptr, self.program_ptr)\n",
    "                # self.program_ptr += len(loop_program) + 2\n",
    "            else:\n",
    "                self.data_ptr, self.program_ptr = self._run_single(instr, self.data_ptr, self.program_ptr)\n",
    "            \n",
    "            running = self.program_ptr < len(program)\n",
    "\n",
    "        return self.data\n"
   ]
  },
  {
   "cell_type": "code",
   "execution_count": 6,
   "metadata": {},
   "outputs": [
    {
     "ename": "IndexError",
     "evalue": "string index out of range",
     "output_type": "error",
     "traceback": [
      "\u001b[1;31m---------------------------------------------------------------------------\u001b[0m",
      "\u001b[1;31mIndexError\u001b[0m                                Traceback (most recent call last)",
      "\u001b[1;32mC:\\Users\\PALASH~1\\AppData\\Local\\Temp/ipykernel_9276/1931652957.py\u001b[0m in \u001b[0;36m<module>\u001b[1;34m\u001b[0m\n\u001b[0;32m      4\u001b[0m \u001b[0mbf\u001b[0m \u001b[1;33m=\u001b[0m \u001b[0mBrainFvck\u001b[0m\u001b[1;33m(\u001b[0m\u001b[0mdataArr\u001b[0m\u001b[1;33m=\u001b[0m\u001b[0mdataArr\u001b[0m\u001b[1;33m)\u001b[0m\u001b[1;33m\u001b[0m\u001b[1;33m\u001b[0m\u001b[0m\n\u001b[0;32m      5\u001b[0m \u001b[1;31m# print(bf.run(\"->+<\"))\u001b[0m\u001b[1;33m\u001b[0m\u001b[1;33m\u001b[0m\u001b[0m\n\u001b[1;32m----> 6\u001b[1;33m \u001b[0mprint\u001b[0m\u001b[1;33m(\u001b[0m\u001b[0mbf\u001b[0m\u001b[1;33m.\u001b[0m\u001b[0mrun\u001b[0m\u001b[1;33m(\u001b[0m\u001b[1;34m\"[->+<]\"\u001b[0m\u001b[1;33m)\u001b[0m\u001b[1;33m)\u001b[0m\u001b[1;33m\u001b[0m\u001b[1;33m\u001b[0m\u001b[0m\n\u001b[0m",
      "\u001b[1;32mC:\\Users\\PALASH~1\\AppData\\Local\\Temp/ipykernel_9276/1802131226.py\u001b[0m in \u001b[0;36mrun\u001b[1;34m(self, program, data_ptr, program_ptr)\u001b[0m\n\u001b[0;32m     48\u001b[0m             \u001b[0minstr\u001b[0m \u001b[1;33m=\u001b[0m \u001b[0mprogram\u001b[0m\u001b[1;33m[\u001b[0m\u001b[0mself\u001b[0m\u001b[1;33m.\u001b[0m\u001b[0mprogram_ptr\u001b[0m\u001b[1;33m]\u001b[0m\u001b[1;33m\u001b[0m\u001b[1;33m\u001b[0m\u001b[0m\n\u001b[0;32m     49\u001b[0m             \u001b[1;32mif\u001b[0m \u001b[0minstr\u001b[0m \u001b[1;33m==\u001b[0m \u001b[1;34m'['\u001b[0m\u001b[1;33m:\u001b[0m\u001b[1;33m\u001b[0m\u001b[1;33m\u001b[0m\u001b[0m\n\u001b[1;32m---> 50\u001b[1;33m                 \u001b[0mloop_program\u001b[0m \u001b[1;33m=\u001b[0m \u001b[0mself\u001b[0m\u001b[1;33m.\u001b[0m\u001b[0m_get_loop\u001b[0m\u001b[1;33m(\u001b[0m\u001b[0mprogram\u001b[0m\u001b[1;33m,\u001b[0m \u001b[0mself\u001b[0m\u001b[1;33m.\u001b[0m\u001b[0mprogram_ptr\u001b[0m\u001b[1;33m)\u001b[0m\u001b[1;33m\u001b[0m\u001b[1;33m\u001b[0m\u001b[0m\n\u001b[0m\u001b[0;32m     51\u001b[0m                 \u001b[0mself\u001b[0m\u001b[1;33m.\u001b[0m\u001b[0m_run_loop\u001b[0m\u001b[1;33m(\u001b[0m\u001b[0mloop_program\u001b[0m\u001b[1;33m,\u001b[0m \u001b[0mself\u001b[0m\u001b[1;33m.\u001b[0m\u001b[0mdata_ptr\u001b[0m\u001b[1;33m,\u001b[0m \u001b[0mself\u001b[0m\u001b[1;33m.\u001b[0m\u001b[0mprogram_ptr\u001b[0m\u001b[1;33m)\u001b[0m\u001b[1;33m\u001b[0m\u001b[1;33m\u001b[0m\u001b[0m\n\u001b[0;32m     52\u001b[0m                 \u001b[1;31m# self.program_ptr += len(loop_program) + 2\u001b[0m\u001b[1;33m\u001b[0m\u001b[1;33m\u001b[0m\u001b[0m\n",
      "\u001b[1;32mC:\\Users\\PALASH~1\\AppData\\Local\\Temp/ipykernel_9276/1802131226.py\u001b[0m in \u001b[0;36m_get_loop\u001b[1;34m(self, program, program_ptr)\u001b[0m\n\u001b[0;32m     34\u001b[0m         \u001b[0mi\u001b[0m\u001b[1;33m,\u001b[0m \u001b[0mj\u001b[0m\u001b[1;33m,\u001b[0m \u001b[0mk\u001b[0m \u001b[1;33m=\u001b[0m \u001b[1;36m1\u001b[0m\u001b[1;33m,\u001b[0m \u001b[1;36m0\u001b[0m\u001b[1;33m,\u001b[0m \u001b[1;36m0\u001b[0m\u001b[1;33m\u001b[0m\u001b[1;33m\u001b[0m\u001b[0m\n\u001b[0;32m     35\u001b[0m         \u001b[1;32mwhile\u001b[0m \u001b[0mi\u001b[0m \u001b[1;33m!=\u001b[0m \u001b[0mj\u001b[0m\u001b[1;33m:\u001b[0m\u001b[1;33m\u001b[0m\u001b[1;33m\u001b[0m\u001b[0m\n\u001b[1;32m---> 36\u001b[1;33m             \u001b[0mi\u001b[0m \u001b[1;33m+=\u001b[0m \u001b[0mint\u001b[0m\u001b[1;33m(\u001b[0m\u001b[0mprogram\u001b[0m\u001b[1;33m[\u001b[0m\u001b[0mk\u001b[0m\u001b[1;33m]\u001b[0m \u001b[1;33m==\u001b[0m \u001b[1;34m'['\u001b[0m\u001b[1;33m)\u001b[0m\u001b[1;33m\u001b[0m\u001b[1;33m\u001b[0m\u001b[0m\n\u001b[0m\u001b[0;32m     37\u001b[0m             \u001b[0mj\u001b[0m \u001b[1;33m+=\u001b[0m \u001b[0mint\u001b[0m\u001b[1;33m(\u001b[0m\u001b[0mprogram\u001b[0m\u001b[1;33m[\u001b[0m\u001b[0mk\u001b[0m\u001b[1;33m]\u001b[0m \u001b[1;33m==\u001b[0m \u001b[1;34m']'\u001b[0m\u001b[1;33m)\u001b[0m\u001b[1;33m\u001b[0m\u001b[1;33m\u001b[0m\u001b[0m\n\u001b[0;32m     38\u001b[0m             \u001b[0mk\u001b[0m \u001b[1;33m+=\u001b[0m \u001b[1;36m1\u001b[0m\u001b[1;33m\u001b[0m\u001b[1;33m\u001b[0m\u001b[0m\n",
      "\u001b[1;31mIndexError\u001b[0m: string index out of range"
     ]
    }
   ],
   "source": [
    "                    \n",
    "dataArr = [0] * 10\n",
    "dataArr[0:1] = [50, 20]\n",
    "\n",
    "bf = BrainFvck(dataArr=dataArr)\n",
    "# print(bf.run(\"->+<\")) \n",
    "print(bf.run(\"[->+<]\")) \n"
   ]
  }
 ],
 "metadata": {
  "kernelspec": {
   "display_name": "Python 3.9.13 ('py39')",
   "language": "python",
   "name": "python3"
  },
  "language_info": {
   "codemirror_mode": {
    "name": "ipython",
    "version": 3
   },
   "file_extension": ".py",
   "mimetype": "text/x-python",
   "name": "python",
   "nbconvert_exporter": "python",
   "pygments_lexer": "ipython3",
   "version": "3.9.13"
  },
  "orig_nbformat": 4,
  "vscode": {
   "interpreter": {
    "hash": "6424520f7a1b94ec09a7189000e860468b5379e89429d640923ad667f4f2f917"
   }
  }
 },
 "nbformat": 4,
 "nbformat_minor": 2
}
